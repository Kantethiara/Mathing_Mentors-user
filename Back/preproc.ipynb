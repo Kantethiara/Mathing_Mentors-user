{
 "cells": [
  {
   "cell_type": "code",
   "execution_count": 71,
   "metadata": {},
   "outputs": [],
   "source": [
    "import pandas as pd\n",
    "import numpy as np\n",
    "import pickle "
   ]
  },
  {
   "cell_type": "code",
   "execution_count": 72,
   "metadata": {},
   "outputs": [
    {
     "data": {
      "application/vnd.microsoft.datawrangler.viewer.v0+json": {
       "columns": [
        {
         "name": "index",
         "rawType": "int64",
         "type": "integer"
        },
        {
         "name": "Horodateur",
         "rawType": "datetime64[ns]",
         "type": "datetime"
        },
        {
         "name": "Adresse e-mail",
         "rawType": "object",
         "type": "string"
        },
        {
         "name": "Prénom, Nom",
         "rawType": "object",
         "type": "string"
        },
        {
         "name": "Quel est ton métier et ta situation professionnelle actuelle ?",
         "rawType": "object",
         "type": "string"
        },
        {
         "name": "Domaine principal d'expertise",
         "rawType": "object",
         "type": "string"
        },
        {
         "name": "Combien d'années d'expérience avez vous dans ce domaine ?",
         "rawType": "object",
         "type": "string"
        },
        {
         "name": "Sélectionne ton principal objectif en tant que mentor",
         "rawType": "object",
         "type": "string"
        },
        {
         "name": "Liste les compétences clés que tu peux transmettre à des apprenants dans ce domaine ou métier",
         "rawType": "object",
         "type": "string"
        },
        {
         "name": "Partage un fun fact sur toi ou ton caractère et ta personnalité, quelque chose qui va te connecter humainement aux apprenants ",
         "rawType": "object",
         "type": "unknown"
        },
        {
         "name": "Quels sont les jours où tu serais disponible pour des sessions d'1h30 par semaine",
         "rawType": "object",
         "type": "string"
        },
        {
         "name": "Quelles sont les périodes de la journée où tu serais disponible?",
         "rawType": "object",
         "type": "string"
        },
        {
         "name": "Le tarif de 25.000 F CFA par apprenant par mois te conviendrait ? ",
         "rawType": "object",
         "type": "string"
        },
        {
         "name": "Es-tu prêt à offrir gratuitement une première séance d'évaluation et proposition de planning aux apprenants ? ",
         "rawType": "object",
         "type": "string"
        },
        {
         "name": "Des remarques, suggestions ou questions ? ",
         "rawType": "object",
         "type": "unknown"
        }
       ],
       "ref": "00c8621c-5ab5-4524-915f-f475d4fc6ef1",
       "rows": [
        [
         "0",
         "2025-06-30 18:06:44.369000",
         "abdoulazizgueye008@gmail.com",
         "abdoul aziz gueye",
         "analyste et gestion de donnee",
         "Intelligence Artificielle et Data",
         "3 - 5",
         "Contribuer à un projet à impact en Afrique",
         "Python",
         null,
         "Vendredi, Samedi",
         "Soir (18h-21h)",
         "Oui",
         "Oui",
         null
        ],
        [
         "1",
         "2025-06-30 18:08:46.378000",
         "raouledah@gmail.com",
         "Raoul",
         "Chef d'entreprise ",
         "Softskills & Leadership",
         "5 - 9",
         "Partager mon savoir-faire et mon expérience",
         "IA Générative, Communication, Marketing, Réseaux sociaux, Product Management",
         "Je suis aimable et abordable toujours prêt à changer la vie des jeunes apprenants.",
         "Mardi, Mercredi, Jeudi, Vendredi, Samedi, Dimanche",
         "Aprés-midi  (13h-17h)",
         "Oui",
         "Oui",
         "Non"
        ],
        [
         "2",
         "2025-06-30 18:12:31.416000",
         "mohamedcissejaysun313@gmail.com",
         "Mouhamadou Cissé ",
         "Marketing digital/Générative d'IA ",
         "Marketing Digital",
         "3 - 5",
         "Aider des profils débutants à progresser",
         "IA Générative, Marketing, Réseaux sociaux, Softskills",
         null,
         "Mardi, Mercredi, Vendredi, Samedi",
         "Aprés-midi  (13h-17h), Soir (18h-21h)",
         "Oui",
         "Oui",
         null
        ],
        [
         "3",
         "2025-06-30 18:12:33.449000",
         "dioufmariam08@gmail.com",
         "Marème Diouf ",
         "Data Analyst, Freelance ",
         "Intelligence Artificielle et Data",
         "3 - 5",
         "Aider des profils débutants à progresser",
         "Python, Sql, Analyse de données, data visualization ",
         null,
         "Mercredi",
         "Matin (8h-12h)",
         "Oui",
         "Oui",
         null
        ],
        [
         "4",
         "2025-06-30 18:13:31.644000",
         "toubanews@gmail.com",
         "ALY LOM ",
         "Inspecteur de l'enseignement moyen secondaire ",
         "Intelligence Artificielle et Data",
         "3 - 5",
         "Aider des profils débutants à progresser",
         "IA Générative, Communication, Marketing, Réseaux sociaux",
         null,
         "Jeudi, Vendredi, Samedi",
         "Aprés-midi  (13h-17h), Soir (18h-21h)",
         "Oui",
         "Oui",
         "Pour les échanges mails, je préfère cette adresse: aly.lom@education.sn"
        ]
       ],
       "shape": {
        "columns": 14,
        "rows": 5
       }
      },
      "text/html": [
       "<div>\n",
       "<style scoped>\n",
       "    .dataframe tbody tr th:only-of-type {\n",
       "        vertical-align: middle;\n",
       "    }\n",
       "\n",
       "    .dataframe tbody tr th {\n",
       "        vertical-align: top;\n",
       "    }\n",
       "\n",
       "    .dataframe thead th {\n",
       "        text-align: right;\n",
       "    }\n",
       "</style>\n",
       "<table border=\"1\" class=\"dataframe\">\n",
       "  <thead>\n",
       "    <tr style=\"text-align: right;\">\n",
       "      <th></th>\n",
       "      <th>Horodateur</th>\n",
       "      <th>Adresse e-mail</th>\n",
       "      <th>Prénom, Nom</th>\n",
       "      <th>Quel est ton métier et ta situation professionnelle actuelle ?</th>\n",
       "      <th>Domaine principal d'expertise</th>\n",
       "      <th>Combien d'années d'expérience avez vous dans ce domaine ?</th>\n",
       "      <th>Sélectionne ton principal objectif en tant que mentor</th>\n",
       "      <th>Liste les compétences clés que tu peux transmettre à des apprenants dans ce domaine ou métier</th>\n",
       "      <th>Partage un fun fact sur toi ou ton caractère et ta personnalité, quelque chose qui va te connecter humainement aux apprenants</th>\n",
       "      <th>Quels sont les jours où tu serais disponible pour des sessions d'1h30 par semaine</th>\n",
       "      <th>Quelles sont les périodes de la journée où tu serais disponible?</th>\n",
       "      <th>Le tarif de 25.000 F CFA par apprenant par mois te conviendrait ?</th>\n",
       "      <th>Es-tu prêt à offrir gratuitement une première séance d'évaluation et proposition de planning aux apprenants ?</th>\n",
       "      <th>Des remarques, suggestions ou questions ?</th>\n",
       "    </tr>\n",
       "  </thead>\n",
       "  <tbody>\n",
       "    <tr>\n",
       "      <th>0</th>\n",
       "      <td>2025-06-30 18:06:44.369</td>\n",
       "      <td>abdoulazizgueye008@gmail.com</td>\n",
       "      <td>abdoul aziz gueye</td>\n",
       "      <td>analyste et gestion de donnee</td>\n",
       "      <td>Intelligence Artificielle et Data</td>\n",
       "      <td>3 - 5</td>\n",
       "      <td>Contribuer à un projet à impact en Afrique</td>\n",
       "      <td>Python</td>\n",
       "      <td>NaN</td>\n",
       "      <td>Vendredi, Samedi</td>\n",
       "      <td>Soir (18h-21h)</td>\n",
       "      <td>Oui</td>\n",
       "      <td>Oui</td>\n",
       "      <td>NaN</td>\n",
       "    </tr>\n",
       "    <tr>\n",
       "      <th>1</th>\n",
       "      <td>2025-06-30 18:08:46.378</td>\n",
       "      <td>raouledah@gmail.com</td>\n",
       "      <td>Raoul</td>\n",
       "      <td>Chef d'entreprise</td>\n",
       "      <td>Softskills &amp; Leadership</td>\n",
       "      <td>5 - 9</td>\n",
       "      <td>Partager mon savoir-faire et mon expérience</td>\n",
       "      <td>IA Générative, Communication, Marketing, Résea...</td>\n",
       "      <td>Je suis aimable et abordable toujours prêt à c...</td>\n",
       "      <td>Mardi, Mercredi, Jeudi, Vendredi, Samedi, Dima...</td>\n",
       "      <td>Aprés-midi  (13h-17h)</td>\n",
       "      <td>Oui</td>\n",
       "      <td>Oui</td>\n",
       "      <td>Non</td>\n",
       "    </tr>\n",
       "    <tr>\n",
       "      <th>2</th>\n",
       "      <td>2025-06-30 18:12:31.416</td>\n",
       "      <td>mohamedcissejaysun313@gmail.com</td>\n",
       "      <td>Mouhamadou Cissé</td>\n",
       "      <td>Marketing digital/Générative d'IA</td>\n",
       "      <td>Marketing Digital</td>\n",
       "      <td>3 - 5</td>\n",
       "      <td>Aider des profils débutants à progresser</td>\n",
       "      <td>IA Générative, Marketing, Réseaux sociaux, Sof...</td>\n",
       "      <td>NaN</td>\n",
       "      <td>Mardi, Mercredi, Vendredi, Samedi</td>\n",
       "      <td>Aprés-midi  (13h-17h), Soir (18h-21h)</td>\n",
       "      <td>Oui</td>\n",
       "      <td>Oui</td>\n",
       "      <td>NaN</td>\n",
       "    </tr>\n",
       "    <tr>\n",
       "      <th>3</th>\n",
       "      <td>2025-06-30 18:12:33.449</td>\n",
       "      <td>dioufmariam08@gmail.com</td>\n",
       "      <td>Marème Diouf</td>\n",
       "      <td>Data Analyst, Freelance</td>\n",
       "      <td>Intelligence Artificielle et Data</td>\n",
       "      <td>3 - 5</td>\n",
       "      <td>Aider des profils débutants à progresser</td>\n",
       "      <td>Python, Sql, Analyse de données, data visualiz...</td>\n",
       "      <td>NaN</td>\n",
       "      <td>Mercredi</td>\n",
       "      <td>Matin (8h-12h)</td>\n",
       "      <td>Oui</td>\n",
       "      <td>Oui</td>\n",
       "      <td>NaN</td>\n",
       "    </tr>\n",
       "    <tr>\n",
       "      <th>4</th>\n",
       "      <td>2025-06-30 18:13:31.644</td>\n",
       "      <td>toubanews@gmail.com</td>\n",
       "      <td>ALY LOM</td>\n",
       "      <td>Inspecteur de l'enseignement moyen secondaire</td>\n",
       "      <td>Intelligence Artificielle et Data</td>\n",
       "      <td>3 - 5</td>\n",
       "      <td>Aider des profils débutants à progresser</td>\n",
       "      <td>IA Générative, Communication, Marketing, Résea...</td>\n",
       "      <td>NaN</td>\n",
       "      <td>Jeudi, Vendredi, Samedi</td>\n",
       "      <td>Aprés-midi  (13h-17h), Soir (18h-21h)</td>\n",
       "      <td>Oui</td>\n",
       "      <td>Oui</td>\n",
       "      <td>Pour les échanges mails, je préfère cette adre...</td>\n",
       "    </tr>\n",
       "  </tbody>\n",
       "</table>\n",
       "</div>"
      ],
      "text/plain": [
       "               Horodateur                   Adresse e-mail        Prénom, Nom  \\\n",
       "0 2025-06-30 18:06:44.369     abdoulazizgueye008@gmail.com  abdoul aziz gueye   \n",
       "1 2025-06-30 18:08:46.378              raouledah@gmail.com              Raoul   \n",
       "2 2025-06-30 18:12:31.416  mohamedcissejaysun313@gmail.com  Mouhamadou Cissé    \n",
       "3 2025-06-30 18:12:33.449          dioufmariam08@gmail.com      Marème Diouf    \n",
       "4 2025-06-30 18:13:31.644              toubanews@gmail.com           ALY LOM    \n",
       "\n",
       "  Quel est ton métier et ta situation professionnelle actuelle ?  \\\n",
       "0                      analyste et gestion de donnee               \n",
       "1                                 Chef d'entreprise                \n",
       "2                 Marketing digital/Générative d'IA                \n",
       "3                           Data Analyst, Freelance                \n",
       "4     Inspecteur de l'enseignement moyen secondaire                \n",
       "\n",
       "       Domaine principal d'expertise  \\\n",
       "0  Intelligence Artificielle et Data   \n",
       "1            Softskills & Leadership   \n",
       "2                  Marketing Digital   \n",
       "3  Intelligence Artificielle et Data   \n",
       "4  Intelligence Artificielle et Data   \n",
       "\n",
       "  Combien d'années d'expérience avez vous dans ce domaine ?  \\\n",
       "0                                              3 - 5          \n",
       "1                                              5 - 9          \n",
       "2                                              3 - 5          \n",
       "3                                              3 - 5          \n",
       "4                                              3 - 5          \n",
       "\n",
       "  Sélectionne ton principal objectif en tant que mentor  \\\n",
       "0         Contribuer à un projet à impact en Afrique      \n",
       "1        Partager mon savoir-faire et mon expérience      \n",
       "2           Aider des profils débutants à progresser      \n",
       "3           Aider des profils débutants à progresser      \n",
       "4           Aider des profils débutants à progresser      \n",
       "\n",
       "  Liste les compétences clés que tu peux transmettre à des apprenants dans ce domaine ou métier  \\\n",
       "0                                             Python                                              \n",
       "1  IA Générative, Communication, Marketing, Résea...                                              \n",
       "2  IA Générative, Marketing, Réseaux sociaux, Sof...                                              \n",
       "3  Python, Sql, Analyse de données, data visualiz...                                              \n",
       "4  IA Générative, Communication, Marketing, Résea...                                              \n",
       "\n",
       "  Partage un fun fact sur toi ou ton caractère et ta personnalité, quelque chose qui va te connecter humainement aux apprenants   \\\n",
       "0                                                NaN                                                                               \n",
       "1  Je suis aimable et abordable toujours prêt à c...                                                                               \n",
       "2                                                NaN                                                                               \n",
       "3                                                NaN                                                                               \n",
       "4                                                NaN                                                                               \n",
       "\n",
       "  Quels sont les jours où tu serais disponible pour des sessions d'1h30 par semaine  \\\n",
       "0                                   Vendredi, Samedi                                  \n",
       "1  Mardi, Mercredi, Jeudi, Vendredi, Samedi, Dima...                                  \n",
       "2                  Mardi, Mercredi, Vendredi, Samedi                                  \n",
       "3                                           Mercredi                                  \n",
       "4                            Jeudi, Vendredi, Samedi                                  \n",
       "\n",
       "  Quelles sont les périodes de la journée où tu serais disponible?  \\\n",
       "0                                     Soir (18h-21h)                 \n",
       "1                              Aprés-midi  (13h-17h)                 \n",
       "2              Aprés-midi  (13h-17h), Soir (18h-21h)                 \n",
       "3                                     Matin (8h-12h)                 \n",
       "4              Aprés-midi  (13h-17h), Soir (18h-21h)                 \n",
       "\n",
       "  Le tarif de 25.000 F CFA par apprenant par mois te conviendrait ?   \\\n",
       "0                                                Oui                   \n",
       "1                                                Oui                   \n",
       "2                                                Oui                   \n",
       "3                                                Oui                   \n",
       "4                                                Oui                   \n",
       "\n",
       "  Es-tu prêt à offrir gratuitement une première séance d'évaluation et proposition de planning aux apprenants ?   \\\n",
       "0                                                Oui                                                               \n",
       "1                                                Oui                                                               \n",
       "2                                                Oui                                                               \n",
       "3                                                Oui                                                               \n",
       "4                                                Oui                                                               \n",
       "\n",
       "          Des remarques, suggestions ou questions ?   \n",
       "0                                                NaN  \n",
       "1                                                Non  \n",
       "2                                                NaN  \n",
       "3                                                NaN  \n",
       "4  Pour les échanges mails, je préfère cette adre...  "
      ]
     },
     "execution_count": 72,
     "metadata": {},
     "output_type": "execute_result"
    }
   ],
   "source": [
    "#importer \n",
    "df_mentors = pd.read_excel('/Users/thiarakante/Documents/Databeez/Matching-user-mentorat/Back/data/Mentors.xlsx')\n",
    "df_mentors.head()"
   ]
  },
  {
   "cell_type": "code",
   "execution_count": 73,
   "metadata": {},
   "outputs": [
    {
     "name": "stdout",
     "output_type": "stream",
     "text": [
      "['Horodateur', 'Adresse e-mail', 'Prénom, Nom', 'Quel est ton métier et ta situation professionnelle actuelle ?', \"Domaine principal d'expertise\", \"Combien d'années d'expérience avez vous dans ce domaine ?\", 'Sélectionne ton principal objectif en tant que mentor', 'Liste les compétences clés que tu peux transmettre à des apprenants dans ce domaine ou métier', 'Partage un fun fact sur toi ou ton caractère et ta personnalité, quelque chose qui va te connecter humainement aux apprenants ', \"Quels sont les jours où tu serais disponible pour des sessions d'1h30 par semaine\", 'Quelles sont les périodes de la journée où tu serais disponible?', 'Le tarif de 25.000 F CFA par apprenant par mois te conviendrait ? ', \"Es-tu prêt à offrir gratuitement une première séance d'évaluation et proposition de planning aux apprenants ? \", 'Des remarques, suggestions ou questions ? ']\n"
     ]
    }
   ],
   "source": [
    "print(df_mentors.columns.tolist())\n"
   ]
  },
  {
   "cell_type": "code",
   "execution_count": 74,
   "metadata": {},
   "outputs": [],
   "source": [
    "df_mentors[\"profil_textuel\"] = (\n",
    "    df_mentors[\"Quel est ton métier et ta situation professionnelle actuelle ?\"].astype(str) + \" \" +\n",
    "    df_mentors[\"Domaine principal d'expertise\"].astype(str) + \" \" +\n",
    "    df_mentors[\"Combien d'années d'expérience avez vous dans ce domaine ?\"].astype(str) + \" \" +\n",
    "    df_mentors[\"Sélectionne ton principal objectif en tant que mentor\"].astype(str) + \" \" +\n",
    "    df_mentors[\"Liste les compétences clés que tu peux transmettre à des apprenants dans ce domaine ou métier\"].astype(str) + \" \" +\n",
    "    # df_mentors[\"Partage un fun fact sur toi ou ton caractère et ta personnalité, quelque chose qui va te connecter humainement aux apprenants \"].astype(str) + \" \" +\n",
    "    # df_mentors[\"Quels sont les jours où tu serais disponible pour des sessions d'1h30 par semaine\"].astype(str) + \" \" +\n",
    "    # df_mentors[\"Quelles sont les périodes de la journée où tu serais disponible?\"].astype(str) + \" \" +\n",
    "    # df_mentors[\"Le tarif de 25.000 F CFA par apprenant par mois te conviendrait ? \"].astype(str) + \" \" +\n",
    "    # df_mentors[\"Es-tu prêt à offrir gratuitement une première séance d'évaluation et proposition de planning aux apprenants ? \"].astype(str) + \" \" +\n",
    "    df_mentors[\"Des remarques, suggestions ou questions ? \"].astype(str)\n",
    ")\n"
   ]
  },
  {
   "cell_type": "code",
   "execution_count": 75,
   "metadata": {},
   "outputs": [],
   "source": [
    "df_mentors[\"id_mentor\"] = df_mentors[\"Adresse e-mail\"]\n",
    "df_mentors[\"nom_mentor\"] = df_mentors[\"Prénom, Nom\"]\n"
   ]
  },
  {
   "cell_type": "code",
   "execution_count": 60,
   "metadata": {},
   "outputs": [
    {
     "data": {
      "application/vnd.microsoft.datawrangler.viewer.v0+json": {
       "columns": [
        {
         "name": "index",
         "rawType": "int64",
         "type": "integer"
        },
        {
         "name": "id_mentor",
         "rawType": "object",
         "type": "string"
        },
        {
         "name": "nom_mentor",
         "rawType": "object",
         "type": "string"
        },
        {
         "name": "profil_textuel",
         "rawType": "object",
         "type": "string"
        }
       ],
       "ref": "c725acad-5120-40c2-bc96-a9b66ec697d0",
       "rows": [
        [
         "0",
         "abdoulazizgueye008@gmail.com",
         "abdoul aziz gueye",
         "analyste et gestion de donnee Intelligence Artificielle et Data 3 - 5 Contribuer à un projet à impact en Afrique Python nan"
        ],
        [
         "1",
         "raouledah@gmail.com",
         "Raoul",
         "Chef d'entreprise  Softskills & Leadership 5 - 9 Partager mon savoir-faire et mon expérience IA Générative, Communication, Marketing, Réseaux sociaux, Product Management Non"
        ],
        [
         "2",
         "mohamedcissejaysun313@gmail.com",
         "Mouhamadou Cissé ",
         "Marketing digital/Générative d'IA  Marketing Digital 3 - 5 Aider des profils débutants à progresser IA Générative, Marketing, Réseaux sociaux, Softskills nan"
        ],
        [
         "3",
         "dioufmariam08@gmail.com",
         "Marème Diouf ",
         "Data Analyst, Freelance  Intelligence Artificielle et Data 3 - 5 Aider des profils débutants à progresser Python, Sql, Analyse de données, data visualization  nan"
        ],
        [
         "4",
         "toubanews@gmail.com",
         "ALY LOM ",
         "Inspecteur de l'enseignement moyen secondaire  Intelligence Artificielle et Data 3 - 5 Aider des profils débutants à progresser IA Générative, Communication, Marketing, Réseaux sociaux Pour les échanges mails, je préfère cette adresse: aly.lom@education.sn"
        ]
       ],
       "shape": {
        "columns": 3,
        "rows": 5
       }
      },
      "text/html": [
       "<div>\n",
       "<style scoped>\n",
       "    .dataframe tbody tr th:only-of-type {\n",
       "        vertical-align: middle;\n",
       "    }\n",
       "\n",
       "    .dataframe tbody tr th {\n",
       "        vertical-align: top;\n",
       "    }\n",
       "\n",
       "    .dataframe thead th {\n",
       "        text-align: right;\n",
       "    }\n",
       "</style>\n",
       "<table border=\"1\" class=\"dataframe\">\n",
       "  <thead>\n",
       "    <tr style=\"text-align: right;\">\n",
       "      <th></th>\n",
       "      <th>id_mentor</th>\n",
       "      <th>nom_mentor</th>\n",
       "      <th>profil_textuel</th>\n",
       "    </tr>\n",
       "  </thead>\n",
       "  <tbody>\n",
       "    <tr>\n",
       "      <th>0</th>\n",
       "      <td>abdoulazizgueye008@gmail.com</td>\n",
       "      <td>abdoul aziz gueye</td>\n",
       "      <td>analyste et gestion de donnee Intelligence Art...</td>\n",
       "    </tr>\n",
       "    <tr>\n",
       "      <th>1</th>\n",
       "      <td>raouledah@gmail.com</td>\n",
       "      <td>Raoul</td>\n",
       "      <td>Chef d'entreprise  Softskills &amp; Leadership 5 -...</td>\n",
       "    </tr>\n",
       "    <tr>\n",
       "      <th>2</th>\n",
       "      <td>mohamedcissejaysun313@gmail.com</td>\n",
       "      <td>Mouhamadou Cissé</td>\n",
       "      <td>Marketing digital/Générative d'IA  Marketing D...</td>\n",
       "    </tr>\n",
       "    <tr>\n",
       "      <th>3</th>\n",
       "      <td>dioufmariam08@gmail.com</td>\n",
       "      <td>Marème Diouf</td>\n",
       "      <td>Data Analyst, Freelance  Intelligence Artifici...</td>\n",
       "    </tr>\n",
       "    <tr>\n",
       "      <th>4</th>\n",
       "      <td>toubanews@gmail.com</td>\n",
       "      <td>ALY LOM</td>\n",
       "      <td>Inspecteur de l'enseignement moyen secondaire ...</td>\n",
       "    </tr>\n",
       "  </tbody>\n",
       "</table>\n",
       "</div>"
      ],
      "text/plain": [
       "                         id_mentor         nom_mentor  \\\n",
       "0     abdoulazizgueye008@gmail.com  abdoul aziz gueye   \n",
       "1              raouledah@gmail.com              Raoul   \n",
       "2  mohamedcissejaysun313@gmail.com  Mouhamadou Cissé    \n",
       "3          dioufmariam08@gmail.com      Marème Diouf    \n",
       "4              toubanews@gmail.com           ALY LOM    \n",
       "\n",
       "                                      profil_textuel  \n",
       "0  analyste et gestion de donnee Intelligence Art...  \n",
       "1  Chef d'entreprise  Softskills & Leadership 5 -...  \n",
       "2  Marketing digital/Générative d'IA  Marketing D...  \n",
       "3  Data Analyst, Freelance  Intelligence Artifici...  \n",
       "4  Inspecteur de l'enseignement moyen secondaire ...  "
      ]
     },
     "execution_count": 60,
     "metadata": {},
     "output_type": "execute_result"
    }
   ],
   "source": [
    "df_mentors = df_mentors[[\"id_mentor\", \"nom_mentor\", \"profil_textuel\"]]\n",
    "\n",
    "df_mentors.head()"
   ]
  },
  {
   "cell_type": "code",
   "execution_count": 76,
   "metadata": {},
   "outputs": [
    {
     "data": {
      "application/vnd.microsoft.datawrangler.viewer.v0+json": {
       "columns": [
        {
         "name": "index",
         "rawType": "int64",
         "type": "integer"
        },
        {
         "name": "Horodateur",
         "rawType": "datetime64[ns]",
         "type": "datetime"
        },
        {
         "name": "Adresse e-mail",
         "rawType": "object",
         "type": "string"
        },
        {
         "name": "Prénom, Nom",
         "rawType": "object",
         "type": "string"
        },
        {
         "name": "Quel est ton métier et ta situation professionnelle actuelle ?",
         "rawType": "object",
         "type": "string"
        },
        {
         "name": "Domaine principal d'expertise",
         "rawType": "object",
         "type": "string"
        },
        {
         "name": "Combien d'années d'expérience avez vous dans ce domaine ?",
         "rawType": "object",
         "type": "string"
        },
        {
         "name": "Sélectionne ton principal objectif en tant que mentor",
         "rawType": "object",
         "type": "string"
        },
        {
         "name": "Liste les compétences clés que tu peux transmettre à des apprenants dans ce domaine ou métier",
         "rawType": "object",
         "type": "string"
        },
        {
         "name": "Partage un fun fact sur toi ou ton caractère et ta personnalité, quelque chose qui va te connecter humainement aux apprenants ",
         "rawType": "object",
         "type": "unknown"
        },
        {
         "name": "Quels sont les jours où tu serais disponible pour des sessions d'1h30 par semaine",
         "rawType": "object",
         "type": "string"
        },
        {
         "name": "Quelles sont les périodes de la journée où tu serais disponible?",
         "rawType": "object",
         "type": "string"
        },
        {
         "name": "Le tarif de 25.000 F CFA par apprenant par mois te conviendrait ? ",
         "rawType": "object",
         "type": "string"
        },
        {
         "name": "Es-tu prêt à offrir gratuitement une première séance d'évaluation et proposition de planning aux apprenants ? ",
         "rawType": "object",
         "type": "string"
        },
        {
         "name": "Des remarques, suggestions ou questions ? ",
         "rawType": "object",
         "type": "unknown"
        },
        {
         "name": "profil_textuel",
         "rawType": "object",
         "type": "string"
        },
        {
         "name": "id_mentor",
         "rawType": "object",
         "type": "string"
        },
        {
         "name": "nom_mentor",
         "rawType": "object",
         "type": "string"
        }
       ],
       "ref": "518b87ee-ad43-4175-80d1-79da4e137593",
       "rows": [
        [
         "0",
         "2025-06-30 18:06:44.369000",
         "abdoulazizgueye008@gmail.com",
         "abdoul aziz gueye",
         "analyste et gestion de donnee",
         "Intelligence Artificielle et Data",
         "3 - 5",
         "Contribuer à un projet à impact en Afrique",
         "Python",
         null,
         "Vendredi, Samedi",
         "Soir (18h-21h)",
         "Oui",
         "Oui",
         null,
         "analyste et gestion de donnee Intelligence Artificielle et Data 3 - 5 Contribuer à un projet à impact en Afrique Python nan",
         "abdoulazizgueye008@gmail.com",
         "abdoul aziz gueye"
        ],
        [
         "1",
         "2025-06-30 18:08:46.378000",
         "raouledah@gmail.com",
         "Raoul",
         "Chef d'entreprise ",
         "Softskills & Leadership",
         "5 - 9",
         "Partager mon savoir-faire et mon expérience",
         "IA Générative, Communication, Marketing, Réseaux sociaux, Product Management",
         "Je suis aimable et abordable toujours prêt à changer la vie des jeunes apprenants.",
         "Mardi, Mercredi, Jeudi, Vendredi, Samedi, Dimanche",
         "Aprés-midi  (13h-17h)",
         "Oui",
         "Oui",
         "Non",
         "Chef d'entreprise  Softskills & Leadership 5 - 9 Partager mon savoir-faire et mon expérience IA Générative, Communication, Marketing, Réseaux sociaux, Product Management Non",
         "raouledah@gmail.com",
         "Raoul"
        ],
        [
         "2",
         "2025-06-30 18:12:31.416000",
         "mohamedcissejaysun313@gmail.com",
         "Mouhamadou Cissé ",
         "Marketing digital/Générative d'IA ",
         "Marketing Digital",
         "3 - 5",
         "Aider des profils débutants à progresser",
         "IA Générative, Marketing, Réseaux sociaux, Softskills",
         null,
         "Mardi, Mercredi, Vendredi, Samedi",
         "Aprés-midi  (13h-17h), Soir (18h-21h)",
         "Oui",
         "Oui",
         null,
         "Marketing digital/Générative d'IA  Marketing Digital 3 - 5 Aider des profils débutants à progresser IA Générative, Marketing, Réseaux sociaux, Softskills nan",
         "mohamedcissejaysun313@gmail.com",
         "Mouhamadou Cissé "
        ],
        [
         "3",
         "2025-06-30 18:12:33.449000",
         "dioufmariam08@gmail.com",
         "Marème Diouf ",
         "Data Analyst, Freelance ",
         "Intelligence Artificielle et Data",
         "3 - 5",
         "Aider des profils débutants à progresser",
         "Python, Sql, Analyse de données, data visualization ",
         null,
         "Mercredi",
         "Matin (8h-12h)",
         "Oui",
         "Oui",
         null,
         "Data Analyst, Freelance  Intelligence Artificielle et Data 3 - 5 Aider des profils débutants à progresser Python, Sql, Analyse de données, data visualization  nan",
         "dioufmariam08@gmail.com",
         "Marème Diouf "
        ],
        [
         "4",
         "2025-06-30 18:13:31.644000",
         "toubanews@gmail.com",
         "ALY LOM ",
         "Inspecteur de l'enseignement moyen secondaire ",
         "Intelligence Artificielle et Data",
         "3 - 5",
         "Aider des profils débutants à progresser",
         "IA Générative, Communication, Marketing, Réseaux sociaux",
         null,
         "Jeudi, Vendredi, Samedi",
         "Aprés-midi  (13h-17h), Soir (18h-21h)",
         "Oui",
         "Oui",
         "Pour les échanges mails, je préfère cette adresse: aly.lom@education.sn",
         "Inspecteur de l'enseignement moyen secondaire  Intelligence Artificielle et Data 3 - 5 Aider des profils débutants à progresser IA Générative, Communication, Marketing, Réseaux sociaux Pour les échanges mails, je préfère cette adresse: aly.lom@education.sn",
         "toubanews@gmail.com",
         "ALY LOM "
        ]
       ],
       "shape": {
        "columns": 17,
        "rows": 5
       }
      },
      "text/html": [
       "<div>\n",
       "<style scoped>\n",
       "    .dataframe tbody tr th:only-of-type {\n",
       "        vertical-align: middle;\n",
       "    }\n",
       "\n",
       "    .dataframe tbody tr th {\n",
       "        vertical-align: top;\n",
       "    }\n",
       "\n",
       "    .dataframe thead th {\n",
       "        text-align: right;\n",
       "    }\n",
       "</style>\n",
       "<table border=\"1\" class=\"dataframe\">\n",
       "  <thead>\n",
       "    <tr style=\"text-align: right;\">\n",
       "      <th></th>\n",
       "      <th>Horodateur</th>\n",
       "      <th>Adresse e-mail</th>\n",
       "      <th>Prénom, Nom</th>\n",
       "      <th>Quel est ton métier et ta situation professionnelle actuelle ?</th>\n",
       "      <th>Domaine principal d'expertise</th>\n",
       "      <th>Combien d'années d'expérience avez vous dans ce domaine ?</th>\n",
       "      <th>Sélectionne ton principal objectif en tant que mentor</th>\n",
       "      <th>Liste les compétences clés que tu peux transmettre à des apprenants dans ce domaine ou métier</th>\n",
       "      <th>Partage un fun fact sur toi ou ton caractère et ta personnalité, quelque chose qui va te connecter humainement aux apprenants</th>\n",
       "      <th>Quels sont les jours où tu serais disponible pour des sessions d'1h30 par semaine</th>\n",
       "      <th>Quelles sont les périodes de la journée où tu serais disponible?</th>\n",
       "      <th>Le tarif de 25.000 F CFA par apprenant par mois te conviendrait ?</th>\n",
       "      <th>Es-tu prêt à offrir gratuitement une première séance d'évaluation et proposition de planning aux apprenants ?</th>\n",
       "      <th>Des remarques, suggestions ou questions ?</th>\n",
       "      <th>profil_textuel</th>\n",
       "      <th>id_mentor</th>\n",
       "      <th>nom_mentor</th>\n",
       "    </tr>\n",
       "  </thead>\n",
       "  <tbody>\n",
       "    <tr>\n",
       "      <th>0</th>\n",
       "      <td>2025-06-30 18:06:44.369</td>\n",
       "      <td>abdoulazizgueye008@gmail.com</td>\n",
       "      <td>abdoul aziz gueye</td>\n",
       "      <td>analyste et gestion de donnee</td>\n",
       "      <td>Intelligence Artificielle et Data</td>\n",
       "      <td>3 - 5</td>\n",
       "      <td>Contribuer à un projet à impact en Afrique</td>\n",
       "      <td>Python</td>\n",
       "      <td>NaN</td>\n",
       "      <td>Vendredi, Samedi</td>\n",
       "      <td>Soir (18h-21h)</td>\n",
       "      <td>Oui</td>\n",
       "      <td>Oui</td>\n",
       "      <td>NaN</td>\n",
       "      <td>analyste et gestion de donnee Intelligence Art...</td>\n",
       "      <td>abdoulazizgueye008@gmail.com</td>\n",
       "      <td>abdoul aziz gueye</td>\n",
       "    </tr>\n",
       "    <tr>\n",
       "      <th>1</th>\n",
       "      <td>2025-06-30 18:08:46.378</td>\n",
       "      <td>raouledah@gmail.com</td>\n",
       "      <td>Raoul</td>\n",
       "      <td>Chef d'entreprise</td>\n",
       "      <td>Softskills &amp; Leadership</td>\n",
       "      <td>5 - 9</td>\n",
       "      <td>Partager mon savoir-faire et mon expérience</td>\n",
       "      <td>IA Générative, Communication, Marketing, Résea...</td>\n",
       "      <td>Je suis aimable et abordable toujours prêt à c...</td>\n",
       "      <td>Mardi, Mercredi, Jeudi, Vendredi, Samedi, Dima...</td>\n",
       "      <td>Aprés-midi  (13h-17h)</td>\n",
       "      <td>Oui</td>\n",
       "      <td>Oui</td>\n",
       "      <td>Non</td>\n",
       "      <td>Chef d'entreprise  Softskills &amp; Leadership 5 -...</td>\n",
       "      <td>raouledah@gmail.com</td>\n",
       "      <td>Raoul</td>\n",
       "    </tr>\n",
       "    <tr>\n",
       "      <th>2</th>\n",
       "      <td>2025-06-30 18:12:31.416</td>\n",
       "      <td>mohamedcissejaysun313@gmail.com</td>\n",
       "      <td>Mouhamadou Cissé</td>\n",
       "      <td>Marketing digital/Générative d'IA</td>\n",
       "      <td>Marketing Digital</td>\n",
       "      <td>3 - 5</td>\n",
       "      <td>Aider des profils débutants à progresser</td>\n",
       "      <td>IA Générative, Marketing, Réseaux sociaux, Sof...</td>\n",
       "      <td>NaN</td>\n",
       "      <td>Mardi, Mercredi, Vendredi, Samedi</td>\n",
       "      <td>Aprés-midi  (13h-17h), Soir (18h-21h)</td>\n",
       "      <td>Oui</td>\n",
       "      <td>Oui</td>\n",
       "      <td>NaN</td>\n",
       "      <td>Marketing digital/Générative d'IA  Marketing D...</td>\n",
       "      <td>mohamedcissejaysun313@gmail.com</td>\n",
       "      <td>Mouhamadou Cissé</td>\n",
       "    </tr>\n",
       "    <tr>\n",
       "      <th>3</th>\n",
       "      <td>2025-06-30 18:12:33.449</td>\n",
       "      <td>dioufmariam08@gmail.com</td>\n",
       "      <td>Marème Diouf</td>\n",
       "      <td>Data Analyst, Freelance</td>\n",
       "      <td>Intelligence Artificielle et Data</td>\n",
       "      <td>3 - 5</td>\n",
       "      <td>Aider des profils débutants à progresser</td>\n",
       "      <td>Python, Sql, Analyse de données, data visualiz...</td>\n",
       "      <td>NaN</td>\n",
       "      <td>Mercredi</td>\n",
       "      <td>Matin (8h-12h)</td>\n",
       "      <td>Oui</td>\n",
       "      <td>Oui</td>\n",
       "      <td>NaN</td>\n",
       "      <td>Data Analyst, Freelance  Intelligence Artifici...</td>\n",
       "      <td>dioufmariam08@gmail.com</td>\n",
       "      <td>Marème Diouf</td>\n",
       "    </tr>\n",
       "    <tr>\n",
       "      <th>4</th>\n",
       "      <td>2025-06-30 18:13:31.644</td>\n",
       "      <td>toubanews@gmail.com</td>\n",
       "      <td>ALY LOM</td>\n",
       "      <td>Inspecteur de l'enseignement moyen secondaire</td>\n",
       "      <td>Intelligence Artificielle et Data</td>\n",
       "      <td>3 - 5</td>\n",
       "      <td>Aider des profils débutants à progresser</td>\n",
       "      <td>IA Générative, Communication, Marketing, Résea...</td>\n",
       "      <td>NaN</td>\n",
       "      <td>Jeudi, Vendredi, Samedi</td>\n",
       "      <td>Aprés-midi  (13h-17h), Soir (18h-21h)</td>\n",
       "      <td>Oui</td>\n",
       "      <td>Oui</td>\n",
       "      <td>Pour les échanges mails, je préfère cette adre...</td>\n",
       "      <td>Inspecteur de l'enseignement moyen secondaire ...</td>\n",
       "      <td>toubanews@gmail.com</td>\n",
       "      <td>ALY LOM</td>\n",
       "    </tr>\n",
       "  </tbody>\n",
       "</table>\n",
       "</div>"
      ],
      "text/plain": [
       "               Horodateur                   Adresse e-mail        Prénom, Nom  \\\n",
       "0 2025-06-30 18:06:44.369     abdoulazizgueye008@gmail.com  abdoul aziz gueye   \n",
       "1 2025-06-30 18:08:46.378              raouledah@gmail.com              Raoul   \n",
       "2 2025-06-30 18:12:31.416  mohamedcissejaysun313@gmail.com  Mouhamadou Cissé    \n",
       "3 2025-06-30 18:12:33.449          dioufmariam08@gmail.com      Marème Diouf    \n",
       "4 2025-06-30 18:13:31.644              toubanews@gmail.com           ALY LOM    \n",
       "\n",
       "  Quel est ton métier et ta situation professionnelle actuelle ?  \\\n",
       "0                      analyste et gestion de donnee               \n",
       "1                                 Chef d'entreprise                \n",
       "2                 Marketing digital/Générative d'IA                \n",
       "3                           Data Analyst, Freelance                \n",
       "4     Inspecteur de l'enseignement moyen secondaire                \n",
       "\n",
       "       Domaine principal d'expertise  \\\n",
       "0  Intelligence Artificielle et Data   \n",
       "1            Softskills & Leadership   \n",
       "2                  Marketing Digital   \n",
       "3  Intelligence Artificielle et Data   \n",
       "4  Intelligence Artificielle et Data   \n",
       "\n",
       "  Combien d'années d'expérience avez vous dans ce domaine ?  \\\n",
       "0                                              3 - 5          \n",
       "1                                              5 - 9          \n",
       "2                                              3 - 5          \n",
       "3                                              3 - 5          \n",
       "4                                              3 - 5          \n",
       "\n",
       "  Sélectionne ton principal objectif en tant que mentor  \\\n",
       "0         Contribuer à un projet à impact en Afrique      \n",
       "1        Partager mon savoir-faire et mon expérience      \n",
       "2           Aider des profils débutants à progresser      \n",
       "3           Aider des profils débutants à progresser      \n",
       "4           Aider des profils débutants à progresser      \n",
       "\n",
       "  Liste les compétences clés que tu peux transmettre à des apprenants dans ce domaine ou métier  \\\n",
       "0                                             Python                                              \n",
       "1  IA Générative, Communication, Marketing, Résea...                                              \n",
       "2  IA Générative, Marketing, Réseaux sociaux, Sof...                                              \n",
       "3  Python, Sql, Analyse de données, data visualiz...                                              \n",
       "4  IA Générative, Communication, Marketing, Résea...                                              \n",
       "\n",
       "  Partage un fun fact sur toi ou ton caractère et ta personnalité, quelque chose qui va te connecter humainement aux apprenants   \\\n",
       "0                                                NaN                                                                               \n",
       "1  Je suis aimable et abordable toujours prêt à c...                                                                               \n",
       "2                                                NaN                                                                               \n",
       "3                                                NaN                                                                               \n",
       "4                                                NaN                                                                               \n",
       "\n",
       "  Quels sont les jours où tu serais disponible pour des sessions d'1h30 par semaine  \\\n",
       "0                                   Vendredi, Samedi                                  \n",
       "1  Mardi, Mercredi, Jeudi, Vendredi, Samedi, Dima...                                  \n",
       "2                  Mardi, Mercredi, Vendredi, Samedi                                  \n",
       "3                                           Mercredi                                  \n",
       "4                            Jeudi, Vendredi, Samedi                                  \n",
       "\n",
       "  Quelles sont les périodes de la journée où tu serais disponible?  \\\n",
       "0                                     Soir (18h-21h)                 \n",
       "1                              Aprés-midi  (13h-17h)                 \n",
       "2              Aprés-midi  (13h-17h), Soir (18h-21h)                 \n",
       "3                                     Matin (8h-12h)                 \n",
       "4              Aprés-midi  (13h-17h), Soir (18h-21h)                 \n",
       "\n",
       "  Le tarif de 25.000 F CFA par apprenant par mois te conviendrait ?   \\\n",
       "0                                                Oui                   \n",
       "1                                                Oui                   \n",
       "2                                                Oui                   \n",
       "3                                                Oui                   \n",
       "4                                                Oui                   \n",
       "\n",
       "  Es-tu prêt à offrir gratuitement une première séance d'évaluation et proposition de planning aux apprenants ?   \\\n",
       "0                                                Oui                                                               \n",
       "1                                                Oui                                                               \n",
       "2                                                Oui                                                               \n",
       "3                                                Oui                                                               \n",
       "4                                                Oui                                                               \n",
       "\n",
       "          Des remarques, suggestions ou questions ?   \\\n",
       "0                                                NaN   \n",
       "1                                                Non   \n",
       "2                                                NaN   \n",
       "3                                                NaN   \n",
       "4  Pour les échanges mails, je préfère cette adre...   \n",
       "\n",
       "                                      profil_textuel  \\\n",
       "0  analyste et gestion de donnee Intelligence Art...   \n",
       "1  Chef d'entreprise  Softskills & Leadership 5 -...   \n",
       "2  Marketing digital/Générative d'IA  Marketing D...   \n",
       "3  Data Analyst, Freelance  Intelligence Artifici...   \n",
       "4  Inspecteur de l'enseignement moyen secondaire ...   \n",
       "\n",
       "                         id_mentor         nom_mentor  \n",
       "0     abdoulazizgueye008@gmail.com  abdoul aziz gueye  \n",
       "1              raouledah@gmail.com              Raoul  \n",
       "2  mohamedcissejaysun313@gmail.com  Mouhamadou Cissé   \n",
       "3          dioufmariam08@gmail.com      Marème Diouf   \n",
       "4              toubanews@gmail.com           ALY LOM   "
      ]
     },
     "execution_count": 76,
     "metadata": {},
     "output_type": "execute_result"
    }
   ],
   "source": [
    "df_mentors.head()"
   ]
  },
  {
   "cell_type": "code",
   "execution_count": 78,
   "metadata": {},
   "outputs": [],
   "source": [
    "with open(\"model/df_mentor.pkl\", \"wb\") as f:\n",
    "    pickle.dump(df_mentors, f)\n"
   ]
  },
  {
   "cell_type": "code",
   "execution_count": 62,
   "metadata": {},
   "outputs": [
    {
     "data": {
      "application/vnd.microsoft.datawrangler.viewer.v0+json": {
       "columns": [
        {
         "name": "index",
         "rawType": "int64",
         "type": "integer"
        },
        {
         "name": "Horodateur",
         "rawType": "datetime64[ns]",
         "type": "datetime"
        },
        {
         "name": "Adresse e-mail",
         "rawType": "object",
         "type": "string"
        },
        {
         "name": "Quel est ton principal objectif professionnel ?",
         "rawType": "object",
         "type": "string"
        },
        {
         "name": "Quelle formation serait idéale pour toi ?",
         "rawType": "object",
         "type": "string"
        },
        {
         "name": "Quel format de formation vous convient le plus? ",
         "rawType": "object",
         "type": "string"
        },
        {
         "name": "Quelle est ton métier et ta situation professionnelle actuelle ?",
         "rawType": "object",
         "type": "string"
        },
        {
         "name": "Quel est budget que vous seriez prêt à mettre sous garantie d'atteinte de votre objectif principal? ",
         "rawType": "object",
         "type": "unknown"
        },
        {
         "name": "Des remarques, suggestions ou questions ? ",
         "rawType": "object",
         "type": "unknown"
        }
       ],
       "ref": "cfe24bc5-fb16-4282-a2e7-8f535faacad0",
       "rows": [
        [
         "0",
         "2025-06-14 15:23:43.871000",
         "a.maguette.toure@gmail.com",
         "Trouver un nouvel emploi, Entreprendre, Améliorer mes compétences",
         "IA appliquée à mon domaine",
         "Formation en autonomie (vidéos personnalisées, courtes et engageantes)",
         "Planification suivi évaluation de projets",
         "Sans budget",
         null
        ],
        [
         "1",
         "2025-06-14 15:41:40.897000",
         "a.maguette.toure@gmail.com",
         "Avoir une promotion, Entreprendre",
         "IA appliquée à mon domaine",
         "Formation avec un expert (en visio ou en présentiel)",
         "Immobilier et informaticien ",
         null,
         null
        ],
        [
         "2",
         "2025-06-14 15:53:48.132000",
         "maguette.toure@data-beez.com",
         "Trouver un nouvel emploi",
         "IA appliquée à mon domaine",
         "FORMATION EN PDF",
         "TELECOMMUNICATION",
         "00",
         null
        ],
        [
         "3",
         "2025-06-14 16:27:18.112000",
         "maguette.toure@data-beez.com",
         "Trouver un nouvel emploi, Entreprendre, Améliorer mes compétences",
         "IA appliquée à mon domaine",
         "Formation en autonomie (vidéos personnalisées, courtes et engageantes)",
         "developpeur php freelance",
         "pas assez",
         "la formation est elle payante ou subventionnée"
        ],
        [
         "4",
         "2025-06-14 17:03:18.241000",
         "matyysylla@gmail.com",
         "Améliorer mes compétences",
         "IA appliquée à mon domaine",
         "Formation avec un expert (en visio ou en présentiel)",
         "COO à Databeez",
         "200000",
         "RAS"
        ]
       ],
       "shape": {
        "columns": 8,
        "rows": 5
       }
      },
      "text/html": [
       "<div>\n",
       "<style scoped>\n",
       "    .dataframe tbody tr th:only-of-type {\n",
       "        vertical-align: middle;\n",
       "    }\n",
       "\n",
       "    .dataframe tbody tr th {\n",
       "        vertical-align: top;\n",
       "    }\n",
       "\n",
       "    .dataframe thead th {\n",
       "        text-align: right;\n",
       "    }\n",
       "</style>\n",
       "<table border=\"1\" class=\"dataframe\">\n",
       "  <thead>\n",
       "    <tr style=\"text-align: right;\">\n",
       "      <th></th>\n",
       "      <th>Horodateur</th>\n",
       "      <th>Adresse e-mail</th>\n",
       "      <th>Quel est ton principal objectif professionnel ?</th>\n",
       "      <th>Quelle formation serait idéale pour toi ?</th>\n",
       "      <th>Quel format de formation vous convient le plus?</th>\n",
       "      <th>Quelle est ton métier et ta situation professionnelle actuelle ?</th>\n",
       "      <th>Quel est budget que vous seriez prêt à mettre sous garantie d'atteinte de votre objectif principal?</th>\n",
       "      <th>Des remarques, suggestions ou questions ?</th>\n",
       "    </tr>\n",
       "  </thead>\n",
       "  <tbody>\n",
       "    <tr>\n",
       "      <th>0</th>\n",
       "      <td>2025-06-14 15:23:43.871</td>\n",
       "      <td>a.maguette.toure@gmail.com</td>\n",
       "      <td>Trouver un nouvel emploi, Entreprendre, Amélio...</td>\n",
       "      <td>IA appliquée à mon domaine</td>\n",
       "      <td>Formation en autonomie (vidéos personnalisées,...</td>\n",
       "      <td>Planification suivi évaluation de projets</td>\n",
       "      <td>Sans budget</td>\n",
       "      <td>NaN</td>\n",
       "    </tr>\n",
       "    <tr>\n",
       "      <th>1</th>\n",
       "      <td>2025-06-14 15:41:40.897</td>\n",
       "      <td>a.maguette.toure@gmail.com</td>\n",
       "      <td>Avoir une promotion, Entreprendre</td>\n",
       "      <td>IA appliquée à mon domaine</td>\n",
       "      <td>Formation avec un expert (en visio ou en prése...</td>\n",
       "      <td>Immobilier et informaticien</td>\n",
       "      <td>NaN</td>\n",
       "      <td>NaN</td>\n",
       "    </tr>\n",
       "    <tr>\n",
       "      <th>2</th>\n",
       "      <td>2025-06-14 15:53:48.132</td>\n",
       "      <td>maguette.toure@data-beez.com</td>\n",
       "      <td>Trouver un nouvel emploi</td>\n",
       "      <td>IA appliquée à mon domaine</td>\n",
       "      <td>FORMATION EN PDF</td>\n",
       "      <td>TELECOMMUNICATION</td>\n",
       "      <td>00</td>\n",
       "      <td>NaN</td>\n",
       "    </tr>\n",
       "    <tr>\n",
       "      <th>3</th>\n",
       "      <td>2025-06-14 16:27:18.112</td>\n",
       "      <td>maguette.toure@data-beez.com</td>\n",
       "      <td>Trouver un nouvel emploi, Entreprendre, Amélio...</td>\n",
       "      <td>IA appliquée à mon domaine</td>\n",
       "      <td>Formation en autonomie (vidéos personnalisées,...</td>\n",
       "      <td>developpeur php freelance</td>\n",
       "      <td>pas assez</td>\n",
       "      <td>la formation est elle payante ou subventionnée</td>\n",
       "    </tr>\n",
       "    <tr>\n",
       "      <th>4</th>\n",
       "      <td>2025-06-14 17:03:18.241</td>\n",
       "      <td>matyysylla@gmail.com</td>\n",
       "      <td>Améliorer mes compétences</td>\n",
       "      <td>IA appliquée à mon domaine</td>\n",
       "      <td>Formation avec un expert (en visio ou en prése...</td>\n",
       "      <td>COO à Databeez</td>\n",
       "      <td>200000</td>\n",
       "      <td>RAS</td>\n",
       "    </tr>\n",
       "  </tbody>\n",
       "</table>\n",
       "</div>"
      ],
      "text/plain": [
       "               Horodateur                Adresse e-mail  \\\n",
       "0 2025-06-14 15:23:43.871    a.maguette.toure@gmail.com   \n",
       "1 2025-06-14 15:41:40.897    a.maguette.toure@gmail.com   \n",
       "2 2025-06-14 15:53:48.132  maguette.toure@data-beez.com   \n",
       "3 2025-06-14 16:27:18.112  maguette.toure@data-beez.com   \n",
       "4 2025-06-14 17:03:18.241          matyysylla@gmail.com   \n",
       "\n",
       "     Quel est ton principal objectif professionnel ?  \\\n",
       "0  Trouver un nouvel emploi, Entreprendre, Amélio...   \n",
       "1                  Avoir une promotion, Entreprendre   \n",
       "2                           Trouver un nouvel emploi   \n",
       "3  Trouver un nouvel emploi, Entreprendre, Amélio...   \n",
       "4                          Améliorer mes compétences   \n",
       "\n",
       "  Quelle formation serait idéale pour toi ?  \\\n",
       "0                IA appliquée à mon domaine   \n",
       "1                IA appliquée à mon domaine   \n",
       "2                IA appliquée à mon domaine   \n",
       "3                IA appliquée à mon domaine   \n",
       "4                IA appliquée à mon domaine   \n",
       "\n",
       "    Quel format de formation vous convient le plus?   \\\n",
       "0  Formation en autonomie (vidéos personnalisées,...   \n",
       "1  Formation avec un expert (en visio ou en prése...   \n",
       "2                                   FORMATION EN PDF   \n",
       "3  Formation en autonomie (vidéos personnalisées,...   \n",
       "4  Formation avec un expert (en visio ou en prése...   \n",
       "\n",
       "  Quelle est ton métier et ta situation professionnelle actuelle ?  \\\n",
       "0          Planification suivi évaluation de projets                 \n",
       "1                       Immobilier et informaticien                  \n",
       "2                                  TELECOMMUNICATION                 \n",
       "3                          developpeur php freelance                 \n",
       "4                                     COO à Databeez                 \n",
       "\n",
       "  Quel est budget que vous seriez prêt à mettre sous garantie d'atteinte de votre objectif principal?   \\\n",
       "0                                        Sans budget                                                     \n",
       "1                                                NaN                                                     \n",
       "2                                                 00                                                     \n",
       "3                                          pas assez                                                     \n",
       "4                                             200000                                                     \n",
       "\n",
       "       Des remarques, suggestions ou questions ?   \n",
       "0                                             NaN  \n",
       "1                                             NaN  \n",
       "2                                             NaN  \n",
       "3  la formation est elle payante ou subventionnée  \n",
       "4                                             RAS  "
      ]
     },
     "execution_count": 62,
     "metadata": {},
     "output_type": "execute_result"
    }
   ],
   "source": [
    "df_etudiants = pd.read_excel('/Users/thiarakante/Documents/Databeez/Matching-user-mentorat/Back/data/data_user.xlsx')\n",
    "df_etudiants.head()"
   ]
  },
  {
   "cell_type": "code",
   "execution_count": 63,
   "metadata": {},
   "outputs": [
    {
     "name": "stdout",
     "output_type": "stream",
     "text": [
      "['Horodateur', 'Adresse e-mail', 'Quel est ton principal objectif professionnel ?', 'Quelle formation serait idéale pour toi ?', 'Quel format de formation vous convient le plus? ', 'Quelle est ton métier et ta situation professionnelle actuelle ?', \"Quel est budget que vous seriez prêt à mettre sous garantie d'atteinte de votre objectif principal? \", 'Des remarques, suggestions ou questions ? ']\n"
     ]
    }
   ],
   "source": [
    "print(df_etudiants.columns.tolist())\n"
   ]
  },
  {
   "cell_type": "code",
   "execution_count": 64,
   "metadata": {},
   "outputs": [],
   "source": [
    "df_etudiants[\"profil_textuel\"] = (\n",
    "    df_etudiants[\"Quel est ton principal objectif professionnel ?\"].astype(str) + \" \" +\n",
    "    df_etudiants[\"Quelle formation serait idéale pour toi ?\"].astype(str) + \" \" +\n",
    "    df_etudiants[\"Quel format de formation vous convient le plus? \"].astype(str) + \" \" +\n",
    "    df_etudiants[\"Quelle est ton métier et ta situation professionnelle actuelle ?\"].astype(str) + \" \" +\n",
    "    # df_etudiants[\"Quel est budget que vous seriez prêt à mettre sous garantie d'atteinte de votre objectif principal? \"].astype(str) + \" \" +\n",
    "    df_etudiants[\"Des remarques, suggestions ou questions ? \"].astype(str))\n"
   ]
  },
  {
   "cell_type": "code",
   "execution_count": 65,
   "metadata": {},
   "outputs": [
    {
     "data": {
      "application/vnd.microsoft.datawrangler.viewer.v0+json": {
       "columns": [
        {
         "name": "index",
         "rawType": "int64",
         "type": "integer"
        },
        {
         "name": "id_etudiant",
         "rawType": "object",
         "type": "string"
        },
        {
         "name": "profil_textuel",
         "rawType": "object",
         "type": "string"
        }
       ],
       "ref": "158ac692-c7d6-4639-bf4e-13d9035af3b3",
       "rows": [
        [
         "0",
         "a.maguette.toure@gmail.com",
         "Trouver un nouvel emploi, Entreprendre, Améliorer mes compétences IA appliquée à mon domaine Formation en autonomie (vidéos personnalisées, courtes et engageantes) Planification suivi évaluation de projets nan"
        ],
        [
         "1",
         "a.maguette.toure@gmail.com",
         "Avoir une promotion, Entreprendre IA appliquée à mon domaine Formation avec un expert (en visio ou en présentiel) Immobilier et informaticien  nan"
        ],
        [
         "2",
         "maguette.toure@data-beez.com",
         "Trouver un nouvel emploi IA appliquée à mon domaine FORMATION EN PDF TELECOMMUNICATION nan"
        ],
        [
         "3",
         "maguette.toure@data-beez.com",
         "Trouver un nouvel emploi, Entreprendre, Améliorer mes compétences IA appliquée à mon domaine Formation en autonomie (vidéos personnalisées, courtes et engageantes) developpeur php freelance la formation est elle payante ou subventionnée"
        ],
        [
         "4",
         "matyysylla@gmail.com",
         "Améliorer mes compétences IA appliquée à mon domaine Formation avec un expert (en visio ou en présentiel) COO à Databeez RAS"
        ]
       ],
       "shape": {
        "columns": 2,
        "rows": 5
       }
      },
      "text/html": [
       "<div>\n",
       "<style scoped>\n",
       "    .dataframe tbody tr th:only-of-type {\n",
       "        vertical-align: middle;\n",
       "    }\n",
       "\n",
       "    .dataframe tbody tr th {\n",
       "        vertical-align: top;\n",
       "    }\n",
       "\n",
       "    .dataframe thead th {\n",
       "        text-align: right;\n",
       "    }\n",
       "</style>\n",
       "<table border=\"1\" class=\"dataframe\">\n",
       "  <thead>\n",
       "    <tr style=\"text-align: right;\">\n",
       "      <th></th>\n",
       "      <th>id_etudiant</th>\n",
       "      <th>profil_textuel</th>\n",
       "    </tr>\n",
       "  </thead>\n",
       "  <tbody>\n",
       "    <tr>\n",
       "      <th>0</th>\n",
       "      <td>a.maguette.toure@gmail.com</td>\n",
       "      <td>Trouver un nouvel emploi, Entreprendre, Amélio...</td>\n",
       "    </tr>\n",
       "    <tr>\n",
       "      <th>1</th>\n",
       "      <td>a.maguette.toure@gmail.com</td>\n",
       "      <td>Avoir une promotion, Entreprendre IA appliquée...</td>\n",
       "    </tr>\n",
       "    <tr>\n",
       "      <th>2</th>\n",
       "      <td>maguette.toure@data-beez.com</td>\n",
       "      <td>Trouver un nouvel emploi IA appliquée à mon do...</td>\n",
       "    </tr>\n",
       "    <tr>\n",
       "      <th>3</th>\n",
       "      <td>maguette.toure@data-beez.com</td>\n",
       "      <td>Trouver un nouvel emploi, Entreprendre, Amélio...</td>\n",
       "    </tr>\n",
       "    <tr>\n",
       "      <th>4</th>\n",
       "      <td>matyysylla@gmail.com</td>\n",
       "      <td>Améliorer mes compétences IA appliquée à mon d...</td>\n",
       "    </tr>\n",
       "  </tbody>\n",
       "</table>\n",
       "</div>"
      ],
      "text/plain": [
       "                    id_etudiant  \\\n",
       "0    a.maguette.toure@gmail.com   \n",
       "1    a.maguette.toure@gmail.com   \n",
       "2  maguette.toure@data-beez.com   \n",
       "3  maguette.toure@data-beez.com   \n",
       "4          matyysylla@gmail.com   \n",
       "\n",
       "                                      profil_textuel  \n",
       "0  Trouver un nouvel emploi, Entreprendre, Amélio...  \n",
       "1  Avoir une promotion, Entreprendre IA appliquée...  \n",
       "2  Trouver un nouvel emploi IA appliquée à mon do...  \n",
       "3  Trouver un nouvel emploi, Entreprendre, Amélio...  \n",
       "4  Améliorer mes compétences IA appliquée à mon d...  "
      ]
     },
     "execution_count": 65,
     "metadata": {},
     "output_type": "execute_result"
    }
   ],
   "source": [
    "df_etudiants[\"id_etudiant\"] = df_etudiants[\"Adresse e-mail\"]\n",
    "df_etudiants = df_etudiants[[\"id_etudiant\", \"profil_textuel\"]]\n",
    "df_etudiants.head()\n"
   ]
  },
  {
   "cell_type": "markdown",
   "metadata": {},
   "source": [
    "#### Généreration d'embeddings des profils textuels"
   ]
  },
  {
   "cell_type": "code",
   "execution_count": 66,
   "metadata": {},
   "outputs": [],
   "source": [
    "from sentence_transformers import SentenceTransformer\n",
    "\n",
    "model = SentenceTransformer('paraphrase-MiniLM-L6-v2')\n",
    "\n",
    "# Générer les embeddings\n",
    "embeddings_mentors = model.encode(df_mentors[\"profil_textuel\"].tolist(), convert_to_tensor=True)\n",
    "\n",
    "\n",
    "embeddings_etudiants = model.encode(df_etudiants[\"profil_textuel\"].tolist(), convert_to_tensor=True)\n"
   ]
  },
  {
   "cell_type": "code",
   "execution_count": 67,
   "metadata": {},
   "outputs": [],
   "source": [
    "from sentence_transformers import SentenceTransformer\n",
    "import pickle\n",
    "\n",
    "model = SentenceTransformer('paraphrase-MiniLM-L6-v2')\n",
    "embeddings_mentors = model.encode(df_mentors[\"profil_textuel\"].tolist(), convert_to_tensor=True)\n",
    "\n",
    "with open(\"model/embeddings_mentors.pkl\", \"wb\") as f:\n",
    "    pickle.dump(embeddings_mentors, f)\n",
    "\n",
    "with open(\"model/df_mentors.pkl\", \"wb\") as f:\n",
    "    pickle.dump(df_mentors, f)\n"
   ]
  },
  {
   "cell_type": "code",
   "execution_count": 32,
   "metadata": {},
   "outputs": [],
   "source": [
    "import numpy as np\n",
    "from sklearn.metrics.pairwise import cosine_similarity\n",
    "\n",
    "# convertir les tensor en tableau numpy\n",
    "embeddings_etudiants_np = embeddings_etudiants.cpu().numpy()\n",
    "embeddings_mentors_np = embeddings_mentors.cpu().numpy()\n",
    "\n",
    "similarites = cosine_similarity(embeddings_etudiants_np, embeddings_mentors_np)\n"
   ]
  },
  {
   "cell_type": "code",
   "execution_count": 33,
   "metadata": {},
   "outputs": [
    {
     "name": "stdout",
     "output_type": "stream",
     "text": [
      "Similarités entre les profils étudiants et mentors :\n",
      "[[0.45762086 0.6446311  0.57511044 ... 0.5290762  0.43448782 0.520827  ]\n",
      " [0.48866516 0.6709923  0.6215046  ... 0.6230121  0.5004317  0.48499733]\n",
      " [0.4726098  0.47820643 0.5485928  ... 0.43386766 0.39263096 0.41334996]\n",
      " ...\n",
      " [0.45699427 0.6183525  0.5516038  ... 0.592025   0.49572578 0.4679727 ]\n",
      " [0.2926953  0.46168023 0.42661867 ... 0.29984102 0.26759705 0.34242702]\n",
      " [0.47825715 0.6337977  0.5620621  ... 0.62234765 0.50745416 0.49953318]]\n"
     ]
    }
   ],
   "source": [
    "print(\"Similarités entre les profils étudiants et mentors :\")\n",
    "print(similarites)"
   ]
  },
  {
   "cell_type": "code",
   "execution_count": 34,
   "metadata": {},
   "outputs": [],
   "source": [
    "import numpy as np\n",
    "\n",
    "indices_mentors = np.argmax(similarites, axis=1)\n"
   ]
  },
  {
   "cell_type": "code",
   "execution_count": 46,
   "metadata": {},
   "outputs": [
    {
     "name": "stdout",
     "output_type": "stream",
     "text": [
      "[44 55 44 44 55 55 55  8 53 55 23 55 44 55 55  8 55 44 44 55 34 30 44 55\n",
      " 55 55 55 55 55 55 53 23 55 55 55 48 55 51 55 58 55 55 55 11 55]\n"
     ]
    }
   ],
   "source": [
    "print(indices_mentors)"
   ]
  },
  {
   "cell_type": "code",
   "execution_count": 36,
   "metadata": {},
   "outputs": [
    {
     "name": "stdout",
     "output_type": "stream",
     "text": [
      "Résultats du matching enregistrés dans 'resultats_matching.xlsx'\n"
     ]
    }
   ],
   "source": [
    "resultats = []\n",
    "\n",
    "for i, idx_mentor in enumerate(indices_mentors):\n",
    "    etudiant = df_etudiants.iloc[i]\n",
    "    mentor = df_mentors.iloc[idx_mentor]\n",
    "    \n",
    "    resultats.append({\n",
    "        \"id_etudiant\": etudiant[\"id_etudiant\"],\n",
    "        \"id_mentor\": mentor[\"id_mentor\"],\n",
    "        \"nom_mentor\": mentor[\"nom_mentor\"],\n",
    "        \"score_similarite\": similarites[i][idx_mentor]\n",
    "    })\n",
    "\n",
    "df_resultats = pd.DataFrame(resultats)\n",
    "df_resultats.to_excel('/Users/thiarakante/Documents/Databeez/Matching-user-mentorat/Back/data/resultats_matching.xlsx', index=False)\n",
    "print(\"Résultats du matching enregistrés dans 'resultats_matching.xlsx'\")"
   ]
  },
  {
   "cell_type": "code",
   "execution_count": 38,
   "metadata": {},
   "outputs": [
    {
     "data": {
      "application/vnd.microsoft.datawrangler.viewer.v0+json": {
       "columns": [
        {
         "name": "index",
         "rawType": "int64",
         "type": "integer"
        },
        {
         "name": "id_etudiant",
         "rawType": "object",
         "type": "string"
        },
        {
         "name": "id_mentor",
         "rawType": "object",
         "type": "string"
        },
        {
         "name": "rang",
         "rawType": "int64",
         "type": "integer"
        },
        {
         "name": "score_similarite",
         "rawType": "float32",
         "type": "float"
        }
       ],
       "ref": "72e8a2f3-1eec-4931-9c0c-9c6a6804f3b4",
       "rows": [
        [
         "0",
         "a.maguette.toure@gmail.com",
         "diamil.dev@gmail.com",
         "1",
         "0.715"
        ],
        [
         "1",
         "a.maguette.toure@gmail.com",
         "anthonymboumba27@gmail.com",
         "2",
         "0.686"
        ],
        [
         "2",
         "a.maguette.toure@gmail.com",
         "raouledah@gmail.com",
         "3",
         "0.645"
        ],
        [
         "3",
         "a.maguette.toure@gmail.com",
         "anthonymboumba27@gmail.com",
         "1",
         "0.705"
        ],
        [
         "4",
         "a.maguette.toure@gmail.com",
         "toubanews@gmail.com",
         "2",
         "0.691"
        ],
        [
         "5",
         "a.maguette.toure@gmail.com",
         "ibrahima.ba58@unchk.edu.sn",
         "3",
         "0.68"
        ],
        [
         "6",
         "maguette.toure@data-beez.com",
         "diamil.dev@gmail.com",
         "1",
         "0.615"
        ],
        [
         "7",
         "maguette.toure@data-beez.com",
         "baaly32@gmail.com",
         "2",
         "0.584"
        ],
        [
         "8",
         "maguette.toure@data-beez.com",
         "assanefall1993@gmail.com",
         "3",
         "0.577"
        ],
        [
         "9",
         "maguette.toure@data-beez.com",
         "diamil.dev@gmail.com",
         "1",
         "0.748"
        ]
       ],
       "shape": {
        "columns": 4,
        "rows": 10
       }
      },
      "text/html": [
       "<div>\n",
       "<style scoped>\n",
       "    .dataframe tbody tr th:only-of-type {\n",
       "        vertical-align: middle;\n",
       "    }\n",
       "\n",
       "    .dataframe tbody tr th {\n",
       "        vertical-align: top;\n",
       "    }\n",
       "\n",
       "    .dataframe thead th {\n",
       "        text-align: right;\n",
       "    }\n",
       "</style>\n",
       "<table border=\"1\" class=\"dataframe\">\n",
       "  <thead>\n",
       "    <tr style=\"text-align: right;\">\n",
       "      <th></th>\n",
       "      <th>id_etudiant</th>\n",
       "      <th>id_mentor</th>\n",
       "      <th>rang</th>\n",
       "      <th>score_similarite</th>\n",
       "    </tr>\n",
       "  </thead>\n",
       "  <tbody>\n",
       "    <tr>\n",
       "      <th>0</th>\n",
       "      <td>a.maguette.toure@gmail.com</td>\n",
       "      <td>diamil.dev@gmail.com</td>\n",
       "      <td>1</td>\n",
       "      <td>0.715</td>\n",
       "    </tr>\n",
       "    <tr>\n",
       "      <th>1</th>\n",
       "      <td>a.maguette.toure@gmail.com</td>\n",
       "      <td>anthonymboumba27@gmail.com</td>\n",
       "      <td>2</td>\n",
       "      <td>0.686</td>\n",
       "    </tr>\n",
       "    <tr>\n",
       "      <th>2</th>\n",
       "      <td>a.maguette.toure@gmail.com</td>\n",
       "      <td>raouledah@gmail.com</td>\n",
       "      <td>3</td>\n",
       "      <td>0.645</td>\n",
       "    </tr>\n",
       "    <tr>\n",
       "      <th>3</th>\n",
       "      <td>a.maguette.toure@gmail.com</td>\n",
       "      <td>anthonymboumba27@gmail.com</td>\n",
       "      <td>1</td>\n",
       "      <td>0.705</td>\n",
       "    </tr>\n",
       "    <tr>\n",
       "      <th>4</th>\n",
       "      <td>a.maguette.toure@gmail.com</td>\n",
       "      <td>toubanews@gmail.com</td>\n",
       "      <td>2</td>\n",
       "      <td>0.691</td>\n",
       "    </tr>\n",
       "    <tr>\n",
       "      <th>5</th>\n",
       "      <td>a.maguette.toure@gmail.com</td>\n",
       "      <td>ibrahima.ba58@unchk.edu.sn</td>\n",
       "      <td>3</td>\n",
       "      <td>0.680</td>\n",
       "    </tr>\n",
       "    <tr>\n",
       "      <th>6</th>\n",
       "      <td>maguette.toure@data-beez.com</td>\n",
       "      <td>diamil.dev@gmail.com</td>\n",
       "      <td>1</td>\n",
       "      <td>0.615</td>\n",
       "    </tr>\n",
       "    <tr>\n",
       "      <th>7</th>\n",
       "      <td>maguette.toure@data-beez.com</td>\n",
       "      <td>baaly32@gmail.com</td>\n",
       "      <td>2</td>\n",
       "      <td>0.584</td>\n",
       "    </tr>\n",
       "    <tr>\n",
       "      <th>8</th>\n",
       "      <td>maguette.toure@data-beez.com</td>\n",
       "      <td>assanefall1993@gmail.com</td>\n",
       "      <td>3</td>\n",
       "      <td>0.577</td>\n",
       "    </tr>\n",
       "    <tr>\n",
       "      <th>9</th>\n",
       "      <td>maguette.toure@data-beez.com</td>\n",
       "      <td>diamil.dev@gmail.com</td>\n",
       "      <td>1</td>\n",
       "      <td>0.748</td>\n",
       "    </tr>\n",
       "  </tbody>\n",
       "</table>\n",
       "</div>"
      ],
      "text/plain": [
       "                    id_etudiant                   id_mentor  rang  \\\n",
       "0    a.maguette.toure@gmail.com        diamil.dev@gmail.com     1   \n",
       "1    a.maguette.toure@gmail.com  anthonymboumba27@gmail.com     2   \n",
       "2    a.maguette.toure@gmail.com         raouledah@gmail.com     3   \n",
       "3    a.maguette.toure@gmail.com  anthonymboumba27@gmail.com     1   \n",
       "4    a.maguette.toure@gmail.com         toubanews@gmail.com     2   \n",
       "5    a.maguette.toure@gmail.com  ibrahima.ba58@unchk.edu.sn     3   \n",
       "6  maguette.toure@data-beez.com        diamil.dev@gmail.com     1   \n",
       "7  maguette.toure@data-beez.com           baaly32@gmail.com     2   \n",
       "8  maguette.toure@data-beez.com    assanefall1993@gmail.com     3   \n",
       "9  maguette.toure@data-beez.com        diamil.dev@gmail.com     1   \n",
       "\n",
       "   score_similarite  \n",
       "0             0.715  \n",
       "1             0.686  \n",
       "2             0.645  \n",
       "3             0.705  \n",
       "4             0.691  \n",
       "5             0.680  \n",
       "6             0.615  \n",
       "7             0.584  \n",
       "8             0.577  \n",
       "9             0.748  "
      ]
     },
     "execution_count": 38,
     "metadata": {},
     "output_type": "execute_result"
    }
   ],
   "source": [
    "# Récupérer les 3 mentors les plus similaires pour chaque étudiant\n",
    "top_mentors = []\n",
    "\n",
    "# Pour chaque étudiant, on récupère les 3 indices de mentors les plus similaires\n",
    "for i, similarities in enumerate(similarites):\n",
    "    top_indices = np.argsort(similarities)[-3:][::-1]  # top 3 en ordre décroissant\n",
    "    id_etudiant = df_etudiants.iloc[i][\"id_etudiant\"]\n",
    "    for rank, mentor_idx in enumerate(top_indices, start=1):\n",
    "        id_mentor = df_mentors.iloc[mentor_idx][\"id_mentor\"]\n",
    "        score = similarities[mentor_idx]\n",
    "        top_mentors.append({\n",
    "            \"id_etudiant\": id_etudiant,\n",
    "            \"id_mentor\": id_mentor,\n",
    "            \"rang\": rank,\n",
    "            \"score_similarite\": round(score, 3)\n",
    "        })\n",
    "\n",
    "# Résultat sous forme de DataFrame\n",
    "df_top3 = pd.DataFrame(top_mentors)\n",
    "df_top3.head(10)\n"
   ]
  },
  {
   "cell_type": "code",
   "execution_count": 41,
   "metadata": {},
   "outputs": [],
   "source": [
    "df_top3 = df_top3.merge(df_mentors[['id_mentor', 'nom_mentor']], on='id_mentor', how='left')\n"
   ]
  },
  {
   "cell_type": "code",
   "execution_count": null,
   "metadata": {},
   "outputs": [
    {
     "name": "stderr",
     "output_type": "stream",
     "text": [
      "/var/folders/59/n1y53hk12zlcs6n7g_sp5qp00000gn/T/ipykernel_51308/2057860736.py:9: FutureWarning: \n",
      "\n",
      "Passing `palette` without assigning `hue` is deprecated and will be removed in v0.14.0. Assign the `y` variable to `hue` and set `legend=False` for the same effect.\n",
      "\n",
      "  g = sns.catplot(\n"
     ]
    },
    {
     "data": {
      "image/png": "[encoded data removed]",
      "text/plain": [
       "<Figure size 1440x1600 with 10 Axes>"
      ]
     },
     "metadata": {},
     "output_type": "display_data"
    }
   ],
   "source": [
    "import seaborn as sns\n",
    "import matplotlib.pyplot as plt\n",
    "\n",
    "# Sélectionner 5 étudiants pour l'exemple\n",
    "etudiants_a_visualiser = df_top3[\"id_etudiant\"].unique()[:10]\n",
    "df_visu = df_top3[df_top3[\"id_etudiant\"].isin(etudiants_a_visualiser)]\n",
    "\n",
    "# Créer un graphe en facettes : un subplot par étudiant\n",
    "g = sns.catplot(\n",
    "    data=df_visu,\n",
    "    kind=\"bar\",\n",
    "    x=\"score_similarite\",\n",
    "    y=\"nom_mentor\",\n",
    "    col=\"id_etudiant\",\n",
    "    col_wrap=3,\n",
    "    height=4,\n",
    "    aspect=1.2,\n",
    "    palette=\"pastel\"\n",
    ")\n",
    "\n",
    "g.set_titles(\"Étudiant {col_name}\")\n",
    "g.set_axis_labels(\"Score de similarité\", \"Mentor\")\n",
    "g.fig.subplots_adjust(top=0.85)\n",
    "g.fig.suptitle(\"Top 3 mentors par étudiant\", fontsize=16)\n",
    "plt.tight_layout()\n",
    "plt.show()\n"
   ]
  },
  {
   "cell_type": "code",
   "execution_count": null,
   "metadata": {},
   "outputs": [],
   "source": []
  }
 ],
 "metadata": {
  "kernelspec": {
   "display_name": ".venv",
   "language": "python",
   "name": "python3"
  },
  "language_info": {
   "codemirror_mode": {
    "name": "ipython",
    "version": 3
   },
   "file_extension": ".py",
   "mimetype": "text/x-python",
   "name": "python",
   "nbconvert_exporter": "python",
   "pygments_lexer": "ipython3",
   "version": "3.13.2"
  }
 },
 "nbformat": 4,
 "nbformat_minor": 2
}
